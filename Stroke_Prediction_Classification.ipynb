{
  "nbformat": 4,
  "nbformat_minor": 0,
  "metadata": {
    "colab": {
      "name": "Stroke Prediction - Classification.ipynb",
      "provenance": [],
      "collapsed_sections": [],
      "toc_visible": true
    },
    "kernelspec": {
      "name": "python3",
      "display_name": "Python 3"
    },
    "language_info": {
      "name": "python"
    }
  },
  "cells": [
    {
      "cell_type": "markdown",
      "metadata": {
        "id": "2cFrCzTSvmff"
      },
      "source": [
        "# Data Loading"
      ]
    },
    {
      "cell_type": "code",
      "metadata": {
        "colab": {
          "base_uri": "https://localhost:8080/",
          "height": 413
        },
        "id": "HxwlHEEvuu-t",
        "outputId": "591661b7-0913-42c0-a706-55bd149e7b5d"
      },
      "source": [
        "import os\n",
        "import numpy as np\n",
        "import matplotlib\n",
        "import matplotlib.pyplot as plt\n",
        "import pandas as pd\n",
        "\n",
        "np.random.seed(42)\n",
        "\n",
        "# Load data file\n",
        "\n",
        "def load_local_csv(csv_path):\n",
        "  return pd.read_csv(csv_path)\n",
        "\n",
        "data = load_local_csv(\"healthcare-dataset-stroke-data.csv\") # data from https://www.kaggle.com/fedesoriano/stroke-prediction-dataset\n",
        "\n",
        "data.head(10)"
      ],
      "execution_count": null,
      "outputs": [
        {
          "output_type": "execute_result",
          "data": {
            "text/html": [
              "<div>\n",
              "<style scoped>\n",
              "    .dataframe tbody tr th:only-of-type {\n",
              "        vertical-align: middle;\n",
              "    }\n",
              "\n",
              "    .dataframe tbody tr th {\n",
              "        vertical-align: top;\n",
              "    }\n",
              "\n",
              "    .dataframe thead th {\n",
              "        text-align: right;\n",
              "    }\n",
              "</style>\n",
              "<table border=\"1\" class=\"dataframe\">\n",
              "  <thead>\n",
              "    <tr style=\"text-align: right;\">\n",
              "      <th></th>\n",
              "      <th>id</th>\n",
              "      <th>gender</th>\n",
              "      <th>age</th>\n",
              "      <th>hypertension</th>\n",
              "      <th>heart_disease</th>\n",
              "      <th>ever_married</th>\n",
              "      <th>work_type</th>\n",
              "      <th>Residence_type</th>\n",
              "      <th>avg_glucose_level</th>\n",
              "      <th>bmi</th>\n",
              "      <th>smoking_status</th>\n",
              "      <th>stroke</th>\n",
              "    </tr>\n",
              "  </thead>\n",
              "  <tbody>\n",
              "    <tr>\n",
              "      <th>0</th>\n",
              "      <td>9046</td>\n",
              "      <td>Male</td>\n",
              "      <td>67.0</td>\n",
              "      <td>0</td>\n",
              "      <td>1</td>\n",
              "      <td>Yes</td>\n",
              "      <td>Private</td>\n",
              "      <td>Urban</td>\n",
              "      <td>228.69</td>\n",
              "      <td>36.6</td>\n",
              "      <td>formerly smoked</td>\n",
              "      <td>1</td>\n",
              "    </tr>\n",
              "    <tr>\n",
              "      <th>1</th>\n",
              "      <td>51676</td>\n",
              "      <td>Female</td>\n",
              "      <td>61.0</td>\n",
              "      <td>0</td>\n",
              "      <td>0</td>\n",
              "      <td>Yes</td>\n",
              "      <td>Self-employed</td>\n",
              "      <td>Rural</td>\n",
              "      <td>202.21</td>\n",
              "      <td>NaN</td>\n",
              "      <td>never smoked</td>\n",
              "      <td>1</td>\n",
              "    </tr>\n",
              "    <tr>\n",
              "      <th>2</th>\n",
              "      <td>31112</td>\n",
              "      <td>Male</td>\n",
              "      <td>80.0</td>\n",
              "      <td>0</td>\n",
              "      <td>1</td>\n",
              "      <td>Yes</td>\n",
              "      <td>Private</td>\n",
              "      <td>Rural</td>\n",
              "      <td>105.92</td>\n",
              "      <td>32.5</td>\n",
              "      <td>never smoked</td>\n",
              "      <td>1</td>\n",
              "    </tr>\n",
              "    <tr>\n",
              "      <th>3</th>\n",
              "      <td>60182</td>\n",
              "      <td>Female</td>\n",
              "      <td>49.0</td>\n",
              "      <td>0</td>\n",
              "      <td>0</td>\n",
              "      <td>Yes</td>\n",
              "      <td>Private</td>\n",
              "      <td>Urban</td>\n",
              "      <td>171.23</td>\n",
              "      <td>34.4</td>\n",
              "      <td>smokes</td>\n",
              "      <td>1</td>\n",
              "    </tr>\n",
              "    <tr>\n",
              "      <th>4</th>\n",
              "      <td>1665</td>\n",
              "      <td>Female</td>\n",
              "      <td>79.0</td>\n",
              "      <td>1</td>\n",
              "      <td>0</td>\n",
              "      <td>Yes</td>\n",
              "      <td>Self-employed</td>\n",
              "      <td>Rural</td>\n",
              "      <td>174.12</td>\n",
              "      <td>24.0</td>\n",
              "      <td>never smoked</td>\n",
              "      <td>1</td>\n",
              "    </tr>\n",
              "    <tr>\n",
              "      <th>5</th>\n",
              "      <td>56669</td>\n",
              "      <td>Male</td>\n",
              "      <td>81.0</td>\n",
              "      <td>0</td>\n",
              "      <td>0</td>\n",
              "      <td>Yes</td>\n",
              "      <td>Private</td>\n",
              "      <td>Urban</td>\n",
              "      <td>186.21</td>\n",
              "      <td>29.0</td>\n",
              "      <td>formerly smoked</td>\n",
              "      <td>1</td>\n",
              "    </tr>\n",
              "    <tr>\n",
              "      <th>6</th>\n",
              "      <td>53882</td>\n",
              "      <td>Male</td>\n",
              "      <td>74.0</td>\n",
              "      <td>1</td>\n",
              "      <td>1</td>\n",
              "      <td>Yes</td>\n",
              "      <td>Private</td>\n",
              "      <td>Rural</td>\n",
              "      <td>70.09</td>\n",
              "      <td>27.4</td>\n",
              "      <td>never smoked</td>\n",
              "      <td>1</td>\n",
              "    </tr>\n",
              "    <tr>\n",
              "      <th>7</th>\n",
              "      <td>10434</td>\n",
              "      <td>Female</td>\n",
              "      <td>69.0</td>\n",
              "      <td>0</td>\n",
              "      <td>0</td>\n",
              "      <td>No</td>\n",
              "      <td>Private</td>\n",
              "      <td>Urban</td>\n",
              "      <td>94.39</td>\n",
              "      <td>22.8</td>\n",
              "      <td>never smoked</td>\n",
              "      <td>1</td>\n",
              "    </tr>\n",
              "    <tr>\n",
              "      <th>8</th>\n",
              "      <td>27419</td>\n",
              "      <td>Female</td>\n",
              "      <td>59.0</td>\n",
              "      <td>0</td>\n",
              "      <td>0</td>\n",
              "      <td>Yes</td>\n",
              "      <td>Private</td>\n",
              "      <td>Rural</td>\n",
              "      <td>76.15</td>\n",
              "      <td>NaN</td>\n",
              "      <td>Unknown</td>\n",
              "      <td>1</td>\n",
              "    </tr>\n",
              "    <tr>\n",
              "      <th>9</th>\n",
              "      <td>60491</td>\n",
              "      <td>Female</td>\n",
              "      <td>78.0</td>\n",
              "      <td>0</td>\n",
              "      <td>0</td>\n",
              "      <td>Yes</td>\n",
              "      <td>Private</td>\n",
              "      <td>Urban</td>\n",
              "      <td>58.57</td>\n",
              "      <td>24.2</td>\n",
              "      <td>Unknown</td>\n",
              "      <td>1</td>\n",
              "    </tr>\n",
              "  </tbody>\n",
              "</table>\n",
              "</div>"
            ],
            "text/plain": [
              "      id  gender   age  ...   bmi   smoking_status stroke\n",
              "0   9046    Male  67.0  ...  36.6  formerly smoked      1\n",
              "1  51676  Female  61.0  ...   NaN     never smoked      1\n",
              "2  31112    Male  80.0  ...  32.5     never smoked      1\n",
              "3  60182  Female  49.0  ...  34.4           smokes      1\n",
              "4   1665  Female  79.0  ...  24.0     never smoked      1\n",
              "5  56669    Male  81.0  ...  29.0  formerly smoked      1\n",
              "6  53882    Male  74.0  ...  27.4     never smoked      1\n",
              "7  10434  Female  69.0  ...  22.8     never smoked      1\n",
              "8  27419  Female  59.0  ...   NaN          Unknown      1\n",
              "9  60491  Female  78.0  ...  24.2          Unknown      1\n",
              "\n",
              "[10 rows x 12 columns]"
            ]
          },
          "metadata": {
            "tags": []
          },
          "execution_count": 1
        }
      ]
    },
    {
      "cell_type": "markdown",
      "metadata": {
        "id": "LQZIp0MkvpgF"
      },
      "source": [
        "# Data Discovery"
      ]
    },
    {
      "cell_type": "code",
      "metadata": {
        "colab": {
          "base_uri": "https://localhost:8080/"
        },
        "id": "o3a0HBPJw-US",
        "outputId": "48331981-fc2a-47e1-d6d0-e91d17f6f2a4"
      },
      "source": [
        "# View summary\n",
        "data.info()"
      ],
      "execution_count": null,
      "outputs": [
        {
          "output_type": "stream",
          "text": [
            "<class 'pandas.core.frame.DataFrame'>\n",
            "RangeIndex: 5110 entries, 0 to 5109\n",
            "Data columns (total 12 columns):\n",
            " #   Column             Non-Null Count  Dtype  \n",
            "---  ------             --------------  -----  \n",
            " 0   id                 5110 non-null   int64  \n",
            " 1   gender             5110 non-null   object \n",
            " 2   age                5110 non-null   float64\n",
            " 3   hypertension       5110 non-null   int64  \n",
            " 4   heart_disease      5110 non-null   int64  \n",
            " 5   ever_married       5110 non-null   object \n",
            " 6   work_type          5110 non-null   object \n",
            " 7   Residence_type     5110 non-null   object \n",
            " 8   avg_glucose_level  5110 non-null   float64\n",
            " 9   bmi                4909 non-null   float64\n",
            " 10  smoking_status     5110 non-null   object \n",
            " 11  stroke             5110 non-null   int64  \n",
            "dtypes: float64(3), int64(4), object(5)\n",
            "memory usage: 479.2+ KB\n"
          ],
          "name": "stdout"
        }
      ]
    },
    {
      "cell_type": "code",
      "metadata": {
        "colab": {
          "base_uri": "https://localhost:8080/"
        },
        "id": "VvX3CLZ1WOGI",
        "outputId": "8d9a9eba-9256-4192-c588-f74c51c334b4"
      },
      "source": [
        "# Get correlations\n",
        "\n",
        "corr_matrix = data.corr()\n",
        "corr_matrix[\"stroke\"].sort_values(ascending=False)"
      ],
      "execution_count": null,
      "outputs": [
        {
          "output_type": "execute_result",
          "data": {
            "text/plain": [
              "stroke               1.000000\n",
              "age                  0.245257\n",
              "heart_disease        0.134914\n",
              "avg_glucose_level    0.131945\n",
              "hypertension         0.127904\n",
              "bmi                  0.042374\n",
              "id                   0.006388\n",
              "Name: stroke, dtype: float64"
            ]
          },
          "metadata": {
            "tags": []
          },
          "execution_count": 3
        }
      ]
    },
    {
      "cell_type": "code",
      "metadata": {
        "colab": {
          "base_uri": "https://localhost:8080/",
          "height": 1000
        },
        "id": "ZY8t8To3vlNV",
        "outputId": "de9aa03f-48de-49e7-cca2-7b1725e94d50"
      },
      "source": [
        "from pandas.plotting import scatter_matrix\n",
        "\n",
        "scatter_matrix(data, figsize=(12, 8))"
      ],
      "execution_count": null,
      "outputs": [
        {
          "output_type": "execute_result",
          "data": {
            "text/plain": [
              "array([[<matplotlib.axes._subplots.AxesSubplot object at 0x7fdc95c2ab90>,\n",
              "        <matplotlib.axes._subplots.AxesSubplot object at 0x7fdc95b8f290>,\n",
              "        <matplotlib.axes._subplots.AxesSubplot object at 0x7fdc95b45910>,\n",
              "        <matplotlib.axes._subplots.AxesSubplot object at 0x7fdc95afcf90>,\n",
              "        <matplotlib.axes._subplots.AxesSubplot object at 0x7fdc95abc650>,\n",
              "        <matplotlib.axes._subplots.AxesSubplot object at 0x7fdc95af2cd0>,\n",
              "        <matplotlib.axes._subplots.AxesSubplot object at 0x7fdc95ab3410>],\n",
              "       [<matplotlib.axes._subplots.AxesSubplot object at 0x7fdc95a6a9d0>,\n",
              "        <matplotlib.axes._subplots.AxesSubplot object at 0x7fdc95a6aa10>,\n",
              "        <matplotlib.axes._subplots.AxesSubplot object at 0x7fdc95a2d1d0>,\n",
              "        <matplotlib.axes._subplots.AxesSubplot object at 0x7fdc95999dd0>,\n",
              "        <matplotlib.axes._subplots.AxesSubplot object at 0x7fdc9595c490>,\n",
              "        <matplotlib.axes._subplots.AxesSubplot object at 0x7fdc9590fa90>,\n",
              "        <matplotlib.axes._subplots.AxesSubplot object at 0x7fdc958d2150>],\n",
              "       [<matplotlib.axes._subplots.AxesSubplot object at 0x7fdc95c9e0d0>,\n",
              "        <matplotlib.axes._subplots.AxesSubplot object at 0x7fdc959f7950>,\n",
              "        <matplotlib.axes._subplots.AxesSubplot object at 0x7fdc958f4890>,\n",
              "        <matplotlib.axes._subplots.AxesSubplot object at 0x7fdc95826b10>,\n",
              "        <matplotlib.axes._subplots.AxesSubplot object at 0x7fdc957e91d0>,\n",
              "        <matplotlib.axes._subplots.AxesSubplot object at 0x7fdc9579d890>,\n",
              "        <matplotlib.axes._subplots.AxesSubplot object at 0x7fdc95753f10>],\n",
              "       [<matplotlib.axes._subplots.AxesSubplot object at 0x7fdc957145d0>,\n",
              "        <matplotlib.axes._subplots.AxesSubplot object at 0x7fdc956c8c50>,\n",
              "        <matplotlib.axes._subplots.AxesSubplot object at 0x7fdc9568c310>,\n",
              "        <matplotlib.axes._subplots.AxesSubplot object at 0x7fdc95641990>,\n",
              "        <matplotlib.axes._subplots.AxesSubplot object at 0x7fdc955f8fd0>,\n",
              "        <matplotlib.axes._subplots.AxesSubplot object at 0x7fdc955b96d0>,\n",
              "        <matplotlib.axes._subplots.AxesSubplot object at 0x7fdc955efd50>],\n",
              "       [<matplotlib.axes._subplots.AxesSubplot object at 0x7fdc955b0410>,\n",
              "        <matplotlib.axes._subplots.AxesSubplot object at 0x7fdc95564a90>,\n",
              "        <matplotlib.axes._subplots.AxesSubplot object at 0x7fdc95528150>,\n",
              "        <matplotlib.axes._subplots.AxesSubplot object at 0x7fdc954dd7d0>,\n",
              "        <matplotlib.axes._subplots.AxesSubplot object at 0x7fdc95492e50>,\n",
              "        <matplotlib.axes._subplots.AxesSubplot object at 0x7fdc95456510>,\n",
              "        <matplotlib.axes._subplots.AxesSubplot object at 0x7fdc9540ab90>],\n",
              "       [<matplotlib.axes._subplots.AxesSubplot object at 0x7fdc953cc250>,\n",
              "        <matplotlib.axes._subplots.AxesSubplot object at 0x7fdc953818d0>,\n",
              "        <matplotlib.axes._subplots.AxesSubplot object at 0x7fdc95338f50>,\n",
              "        <matplotlib.axes._subplots.AxesSubplot object at 0x7fdc952f8610>,\n",
              "        <matplotlib.axes._subplots.AxesSubplot object at 0x7fdc9532ec90>,\n",
              "        <matplotlib.axes._subplots.AxesSubplot object at 0x7fdc952f0350>,\n",
              "        <matplotlib.axes._subplots.AxesSubplot object at 0x7fdc952a69d0>],\n",
              "       [<matplotlib.axes._subplots.AxesSubplot object at 0x7fdc95252b50>,\n",
              "        <matplotlib.axes._subplots.AxesSubplot object at 0x7fdc9521f710>,\n",
              "        <matplotlib.axes._subplots.AxesSubplot object at 0x7fdc951d6910>,\n",
              "        <matplotlib.axes._subplots.AxesSubplot object at 0x7fdc9518be90>,\n",
              "        <matplotlib.axes._subplots.AxesSubplot object at 0x7fdc9514b450>,\n",
              "        <matplotlib.axes._subplots.AxesSubplot object at 0x7fdc951039d0>,\n",
              "        <matplotlib.axes._subplots.AxesSubplot object at 0x7fdc950b7f50>]],\n",
              "      dtype=object)"
            ]
          },
          "metadata": {
            "tags": []
          },
          "execution_count": 4
        },
        {
          "output_type": "display_data",
          "data": {
            "image/png": "[encoded data removed]",
            "text/plain": [
              "<Figure size 864x576 with 49 Axes>"
            ]
          },
          "metadata": {
            "tags": [],
            "needs_background": "light"
          }
        }
      ]
    },
    {
      "cell_type": "markdown",
      "metadata": {
        "id": "E60aqgoTvtW7"
      },
      "source": [
        "# Preprocessing"
      ]
    },
    {
      "cell_type": "code",
      "metadata": {
        "id": "VZjMrKoG9Ofw"
      },
      "source": [
        "# drop incomplete data\n",
        "\n",
        "data.dropna(inplace=True)\n",
        "data = data[data['smoking_status'] != \"Unknown\"]\n",
        "data = data[data[\"bmi\"] != \"N/A\"]\n",
        "data = data[data[\"gender\"] != \"Other\"] # insufficient data in Other category for accurate predictions"
      ],
      "execution_count": null,
      "outputs": []
    },
    {
      "cell_type": "code",
      "metadata": {
        "colab": {
          "base_uri": "https://localhost:8080/"
        },
        "id": "5PO6AM1AxxaE",
        "outputId": "d9756c90-8498-4e3e-eb64-4847d88ef675"
      },
      "source": [
        "from sklearn.model_selection import train_test_split, StratifiedShuffleSplit, ShuffleSplit\n",
        "\n",
        "# drop irrelevant data\n",
        "relevant_data = data.drop(\"id\", axis=1)\n",
        "\n",
        "# split data into train and test sets\n",
        "train_set, test_set = train_test_split(relevant_data, test_size=0.2, random_state=42)\n",
        "print(train_set.shape)\n",
        "\n",
        "# stratified_split = StratifiedShuffleSplit(n_splits=1, test_size=0.2, random_state=42)\n",
        "# for train_index, test_index in stratified_split.split(housing_data, housing_data[])"
      ],
      "execution_count": null,
      "outputs": [
        {
          "output_type": "stream",
          "text": [
            "(2740, 11)\n"
          ],
          "name": "stdout"
        }
      ]
    },
    {
      "cell_type": "code",
      "metadata": {
        "id": "2_J12ay8xUvk"
      },
      "source": [
        "# create labels and features\n",
        "training_labels = train_set[\"stroke\"].copy().to_numpy()\n",
        "training_features = train_set.drop(\"stroke\", axis=1)\n",
        "\n",
        "testing_labels = test_set[\"stroke\"].copy()\n",
        "testing_features = test_set.drop(\"stroke\", axis=1)"
      ],
      "execution_count": null,
      "outputs": []
    },
    {
      "cell_type": "code",
      "metadata": {
        "colab": {
          "base_uri": "https://localhost:8080/",
          "height": 689
        },
        "id": "Y7gsYe6ZytN9",
        "outputId": "0e5acf97-d100-4d4e-9403-84970c29e039"
      },
      "source": [
        "# transform data using a pipeline\n",
        "\n",
        "from sklearn.pipeline import Pipeline\n",
        "from sklearn.compose import ColumnTransformer\n",
        "from sklearn.impute import SimpleImputer\n",
        "from sklearn.preprocessing import OneHotEncoder, StandardScaler\n",
        "\n",
        "num_attribs = [\"age\", \"hypertension\", \"heart_disease\", \"avg_glucose_level\", \"bmi\"]\n",
        "cat_attribs = [\"gender\", \"ever_married\", \"work_type\", \"Residence_type\", \"smoking_status\"]\n",
        "\n",
        "num_pipeline = Pipeline([\n",
        "     ('imputer', SimpleImputer(strategy=\"median\")),\n",
        "     ('std_scaler', StandardScaler())\n",
        "])\n",
        "\n",
        "pipeline = ColumnTransformer([\n",
        "      ('num', num_pipeline, num_attribs),\n",
        "      (\"cat\", OneHotEncoder(), cat_attribs)\n",
        "])\n",
        "\n",
        "training_features_prepared = pipeline.fit_transform(training_features)\n",
        "training_features_prepared_df = pd.DataFrame(data=training_features_prepared)\n",
        "training_features_prepared_df.head(20)"
      ],
      "execution_count": null,
      "outputs": [
        {
          "output_type": "execute_result",
          "data": {
            "text/html": [
              "<div>\n",
              "<style scoped>\n",
              "    .dataframe tbody tr th:only-of-type {\n",
              "        vertical-align: middle;\n",
              "    }\n",
              "\n",
              "    .dataframe tbody tr th {\n",
              "        vertical-align: top;\n",
              "    }\n",
              "\n",
              "    .dataframe thead th {\n",
              "        text-align: right;\n",
              "    }\n",
              "</style>\n",
              "<table border=\"1\" class=\"dataframe\">\n",
              "  <thead>\n",
              "    <tr style=\"text-align: right;\">\n",
              "      <th></th>\n",
              "      <th>0</th>\n",
              "      <th>1</th>\n",
              "      <th>2</th>\n",
              "      <th>3</th>\n",
              "      <th>4</th>\n",
              "      <th>5</th>\n",
              "      <th>6</th>\n",
              "      <th>7</th>\n",
              "      <th>8</th>\n",
              "      <th>9</th>\n",
              "      <th>10</th>\n",
              "      <th>11</th>\n",
              "      <th>12</th>\n",
              "      <th>13</th>\n",
              "      <th>14</th>\n",
              "      <th>15</th>\n",
              "      <th>16</th>\n",
              "      <th>17</th>\n",
              "      <th>18</th>\n",
              "    </tr>\n",
              "  </thead>\n",
              "  <tbody>\n",
              "    <tr>\n",
              "      <th>0</th>\n",
              "      <td>-1.746462</td>\n",
              "      <td>-0.361058</td>\n",
              "      <td>-0.24654</td>\n",
              "      <td>-0.537871</td>\n",
              "      <td>-1.235804</td>\n",
              "      <td>0.0</td>\n",
              "      <td>1.0</td>\n",
              "      <td>1.0</td>\n",
              "      <td>0.0</td>\n",
              "      <td>0.0</td>\n",
              "      <td>0.0</td>\n",
              "      <td>1.0</td>\n",
              "      <td>0.0</td>\n",
              "      <td>0.0</td>\n",
              "      <td>0.0</td>\n",
              "      <td>1.0</td>\n",
              "      <td>0.0</td>\n",
              "      <td>1.0</td>\n",
              "      <td>0.0</td>\n",
              "    </tr>\n",
              "    <tr>\n",
              "      <th>1</th>\n",
              "      <td>-0.997085</td>\n",
              "      <td>-0.361058</td>\n",
              "      <td>-0.24654</td>\n",
              "      <td>-0.950542</td>\n",
              "      <td>-0.311202</td>\n",
              "      <td>0.0</td>\n",
              "      <td>1.0</td>\n",
              "      <td>1.0</td>\n",
              "      <td>0.0</td>\n",
              "      <td>0.0</td>\n",
              "      <td>0.0</td>\n",
              "      <td>1.0</td>\n",
              "      <td>0.0</td>\n",
              "      <td>0.0</td>\n",
              "      <td>0.0</td>\n",
              "      <td>1.0</td>\n",
              "      <td>0.0</td>\n",
              "      <td>1.0</td>\n",
              "      <td>0.0</td>\n",
              "    </tr>\n",
              "    <tr>\n",
              "      <th>2</th>\n",
              "      <td>0.929884</td>\n",
              "      <td>-0.361058</td>\n",
              "      <td>-0.24654</td>\n",
              "      <td>3.022762</td>\n",
              "      <td>0.697455</td>\n",
              "      <td>1.0</td>\n",
              "      <td>0.0</td>\n",
              "      <td>0.0</td>\n",
              "      <td>1.0</td>\n",
              "      <td>0.0</td>\n",
              "      <td>0.0</td>\n",
              "      <td>0.0</td>\n",
              "      <td>1.0</td>\n",
              "      <td>0.0</td>\n",
              "      <td>1.0</td>\n",
              "      <td>0.0</td>\n",
              "      <td>0.0</td>\n",
              "      <td>0.0</td>\n",
              "      <td>1.0</td>\n",
              "    </tr>\n",
              "    <tr>\n",
              "      <th>3</th>\n",
              "      <td>-1.639408</td>\n",
              "      <td>-0.361058</td>\n",
              "      <td>-0.24654</td>\n",
              "      <td>-0.264870</td>\n",
              "      <td>-1.011658</td>\n",
              "      <td>1.0</td>\n",
              "      <td>0.0</td>\n",
              "      <td>1.0</td>\n",
              "      <td>0.0</td>\n",
              "      <td>0.0</td>\n",
              "      <td>0.0</td>\n",
              "      <td>1.0</td>\n",
              "      <td>0.0</td>\n",
              "      <td>0.0</td>\n",
              "      <td>0.0</td>\n",
              "      <td>1.0</td>\n",
              "      <td>0.0</td>\n",
              "      <td>1.0</td>\n",
              "      <td>0.0</td>\n",
              "    </tr>\n",
              "    <tr>\n",
              "      <th>4</th>\n",
              "      <td>-0.515343</td>\n",
              "      <td>-0.361058</td>\n",
              "      <td>-0.24654</td>\n",
              "      <td>2.854989</td>\n",
              "      <td>0.977637</td>\n",
              "      <td>1.0</td>\n",
              "      <td>0.0</td>\n",
              "      <td>0.0</td>\n",
              "      <td>1.0</td>\n",
              "      <td>0.0</td>\n",
              "      <td>0.0</td>\n",
              "      <td>1.0</td>\n",
              "      <td>0.0</td>\n",
              "      <td>0.0</td>\n",
              "      <td>0.0</td>\n",
              "      <td>1.0</td>\n",
              "      <td>0.0</td>\n",
              "      <td>0.0</td>\n",
              "      <td>1.0</td>\n",
              "    </tr>\n",
              "    <tr>\n",
              "      <th>5</th>\n",
              "      <td>1.090464</td>\n",
              "      <td>-0.361058</td>\n",
              "      <td>-0.24654</td>\n",
              "      <td>-0.811506</td>\n",
              "      <td>0.809528</td>\n",
              "      <td>1.0</td>\n",
              "      <td>0.0</td>\n",
              "      <td>0.0</td>\n",
              "      <td>1.0</td>\n",
              "      <td>0.0</td>\n",
              "      <td>0.0</td>\n",
              "      <td>0.0</td>\n",
              "      <td>1.0</td>\n",
              "      <td>0.0</td>\n",
              "      <td>0.0</td>\n",
              "      <td>1.0</td>\n",
              "      <td>0.0</td>\n",
              "      <td>1.0</td>\n",
              "      <td>0.0</td>\n",
              "    </tr>\n",
              "    <tr>\n",
              "      <th>6</th>\n",
              "      <td>-0.408289</td>\n",
              "      <td>-0.361058</td>\n",
              "      <td>-0.24654</td>\n",
              "      <td>-0.516318</td>\n",
              "      <td>-0.241156</td>\n",
              "      <td>0.0</td>\n",
              "      <td>1.0</td>\n",
              "      <td>0.0</td>\n",
              "      <td>1.0</td>\n",
              "      <td>0.0</td>\n",
              "      <td>0.0</td>\n",
              "      <td>1.0</td>\n",
              "      <td>0.0</td>\n",
              "      <td>0.0</td>\n",
              "      <td>1.0</td>\n",
              "      <td>0.0</td>\n",
              "      <td>1.0</td>\n",
              "      <td>0.0</td>\n",
              "      <td>0.0</td>\n",
              "    </tr>\n",
              "    <tr>\n",
              "      <th>7</th>\n",
              "      <td>0.394615</td>\n",
              "      <td>-0.361058</td>\n",
              "      <td>-0.24654</td>\n",
              "      <td>-0.289381</td>\n",
              "      <td>-0.087056</td>\n",
              "      <td>1.0</td>\n",
              "      <td>0.0</td>\n",
              "      <td>0.0</td>\n",
              "      <td>1.0</td>\n",
              "      <td>0.0</td>\n",
              "      <td>0.0</td>\n",
              "      <td>0.0</td>\n",
              "      <td>1.0</td>\n",
              "      <td>0.0</td>\n",
              "      <td>1.0</td>\n",
              "      <td>0.0</td>\n",
              "      <td>0.0</td>\n",
              "      <td>0.0</td>\n",
              "      <td>1.0</td>\n",
              "    </tr>\n",
              "    <tr>\n",
              "      <th>8</th>\n",
              "      <td>-1.371774</td>\n",
              "      <td>-0.361058</td>\n",
              "      <td>-0.24654</td>\n",
              "      <td>-0.433911</td>\n",
              "      <td>-0.955621</td>\n",
              "      <td>0.0</td>\n",
              "      <td>1.0</td>\n",
              "      <td>1.0</td>\n",
              "      <td>0.0</td>\n",
              "      <td>0.0</td>\n",
              "      <td>0.0</td>\n",
              "      <td>1.0</td>\n",
              "      <td>0.0</td>\n",
              "      <td>0.0</td>\n",
              "      <td>0.0</td>\n",
              "      <td>1.0</td>\n",
              "      <td>0.0</td>\n",
              "      <td>1.0</td>\n",
              "      <td>0.0</td>\n",
              "    </tr>\n",
              "    <tr>\n",
              "      <th>9</th>\n",
              "      <td>-1.425301</td>\n",
              "      <td>-0.361058</td>\n",
              "      <td>-0.24654</td>\n",
              "      <td>-0.462225</td>\n",
              "      <td>-1.319858</td>\n",
              "      <td>0.0</td>\n",
              "      <td>1.0</td>\n",
              "      <td>1.0</td>\n",
              "      <td>0.0</td>\n",
              "      <td>0.0</td>\n",
              "      <td>0.0</td>\n",
              "      <td>1.0</td>\n",
              "      <td>0.0</td>\n",
              "      <td>0.0</td>\n",
              "      <td>1.0</td>\n",
              "      <td>0.0</td>\n",
              "      <td>0.0</td>\n",
              "      <td>1.0</td>\n",
              "      <td>0.0</td>\n",
              "    </tr>\n",
              "    <tr>\n",
              "      <th>10</th>\n",
              "      <td>1.625734</td>\n",
              "      <td>-0.361058</td>\n",
              "      <td>-0.24654</td>\n",
              "      <td>-0.385523</td>\n",
              "      <td>0.585382</td>\n",
              "      <td>1.0</td>\n",
              "      <td>0.0</td>\n",
              "      <td>0.0</td>\n",
              "      <td>1.0</td>\n",
              "      <td>1.0</td>\n",
              "      <td>0.0</td>\n",
              "      <td>0.0</td>\n",
              "      <td>0.0</td>\n",
              "      <td>0.0</td>\n",
              "      <td>1.0</td>\n",
              "      <td>0.0</td>\n",
              "      <td>0.0</td>\n",
              "      <td>1.0</td>\n",
              "      <td>0.0</td>\n",
              "    </tr>\n",
              "    <tr>\n",
              "      <th>11</th>\n",
              "      <td>1.465153</td>\n",
              "      <td>-0.361058</td>\n",
              "      <td>-0.24654</td>\n",
              "      <td>0.054617</td>\n",
              "      <td>-0.059038</td>\n",
              "      <td>0.0</td>\n",
              "      <td>1.0</td>\n",
              "      <td>0.0</td>\n",
              "      <td>1.0</td>\n",
              "      <td>0.0</td>\n",
              "      <td>0.0</td>\n",
              "      <td>1.0</td>\n",
              "      <td>0.0</td>\n",
              "      <td>0.0</td>\n",
              "      <td>1.0</td>\n",
              "      <td>0.0</td>\n",
              "      <td>1.0</td>\n",
              "      <td>0.0</td>\n",
              "      <td>0.0</td>\n",
              "    </tr>\n",
              "    <tr>\n",
              "      <th>12</th>\n",
              "      <td>-1.425301</td>\n",
              "      <td>-0.361058</td>\n",
              "      <td>-0.24654</td>\n",
              "      <td>0.656614</td>\n",
              "      <td>-0.227147</td>\n",
              "      <td>1.0</td>\n",
              "      <td>0.0</td>\n",
              "      <td>1.0</td>\n",
              "      <td>0.0</td>\n",
              "      <td>0.0</td>\n",
              "      <td>0.0</td>\n",
              "      <td>1.0</td>\n",
              "      <td>0.0</td>\n",
              "      <td>0.0</td>\n",
              "      <td>0.0</td>\n",
              "      <td>1.0</td>\n",
              "      <td>1.0</td>\n",
              "      <td>0.0</td>\n",
              "      <td>0.0</td>\n",
              "    </tr>\n",
              "    <tr>\n",
              "      <th>13</th>\n",
              "      <td>-0.461816</td>\n",
              "      <td>-0.361058</td>\n",
              "      <td>-0.24654</td>\n",
              "      <td>-0.799673</td>\n",
              "      <td>0.291190</td>\n",
              "      <td>1.0</td>\n",
              "      <td>0.0</td>\n",
              "      <td>1.0</td>\n",
              "      <td>0.0</td>\n",
              "      <td>1.0</td>\n",
              "      <td>0.0</td>\n",
              "      <td>0.0</td>\n",
              "      <td>0.0</td>\n",
              "      <td>0.0</td>\n",
              "      <td>1.0</td>\n",
              "      <td>0.0</td>\n",
              "      <td>0.0</td>\n",
              "      <td>1.0</td>\n",
              "      <td>0.0</td>\n",
              "    </tr>\n",
              "    <tr>\n",
              "      <th>14</th>\n",
              "      <td>-0.836505</td>\n",
              "      <td>-0.361058</td>\n",
              "      <td>-0.24654</td>\n",
              "      <td>-0.373479</td>\n",
              "      <td>0.361236</td>\n",
              "      <td>0.0</td>\n",
              "      <td>1.0</td>\n",
              "      <td>0.0</td>\n",
              "      <td>1.0</td>\n",
              "      <td>0.0</td>\n",
              "      <td>0.0</td>\n",
              "      <td>1.0</td>\n",
              "      <td>0.0</td>\n",
              "      <td>0.0</td>\n",
              "      <td>0.0</td>\n",
              "      <td>1.0</td>\n",
              "      <td>0.0</td>\n",
              "      <td>0.0</td>\n",
              "      <td>1.0</td>\n",
              "    </tr>\n",
              "    <tr>\n",
              "      <th>15</th>\n",
              "      <td>-0.087128</td>\n",
              "      <td>-0.361058</td>\n",
              "      <td>-0.24654</td>\n",
              "      <td>-0.379606</td>\n",
              "      <td>-0.213138</td>\n",
              "      <td>0.0</td>\n",
              "      <td>1.0</td>\n",
              "      <td>0.0</td>\n",
              "      <td>1.0</td>\n",
              "      <td>0.0</td>\n",
              "      <td>0.0</td>\n",
              "      <td>0.0</td>\n",
              "      <td>1.0</td>\n",
              "      <td>0.0</td>\n",
              "      <td>1.0</td>\n",
              "      <td>0.0</td>\n",
              "      <td>0.0</td>\n",
              "      <td>1.0</td>\n",
              "      <td>0.0</td>\n",
              "    </tr>\n",
              "    <tr>\n",
              "      <th>16</th>\n",
              "      <td>0.929884</td>\n",
              "      <td>-0.361058</td>\n",
              "      <td>-0.24654</td>\n",
              "      <td>1.978724</td>\n",
              "      <td>0.207136</td>\n",
              "      <td>1.0</td>\n",
              "      <td>0.0</td>\n",
              "      <td>0.0</td>\n",
              "      <td>1.0</td>\n",
              "      <td>0.0</td>\n",
              "      <td>0.0</td>\n",
              "      <td>1.0</td>\n",
              "      <td>0.0</td>\n",
              "      <td>0.0</td>\n",
              "      <td>0.0</td>\n",
              "      <td>1.0</td>\n",
              "      <td>0.0</td>\n",
              "      <td>0.0</td>\n",
              "      <td>1.0</td>\n",
              "    </tr>\n",
              "    <tr>\n",
              "      <th>17</th>\n",
              "      <td>0.448141</td>\n",
              "      <td>-0.361058</td>\n",
              "      <td>-0.24654</td>\n",
              "      <td>-0.498991</td>\n",
              "      <td>0.361236</td>\n",
              "      <td>0.0</td>\n",
              "      <td>1.0</td>\n",
              "      <td>0.0</td>\n",
              "      <td>1.0</td>\n",
              "      <td>0.0</td>\n",
              "      <td>0.0</td>\n",
              "      <td>0.0</td>\n",
              "      <td>1.0</td>\n",
              "      <td>0.0</td>\n",
              "      <td>1.0</td>\n",
              "      <td>0.0</td>\n",
              "      <td>1.0</td>\n",
              "      <td>0.0</td>\n",
              "      <td>0.0</td>\n",
              "    </tr>\n",
              "    <tr>\n",
              "      <th>18</th>\n",
              "      <td>0.501668</td>\n",
              "      <td>-0.361058</td>\n",
              "      <td>-0.24654</td>\n",
              "      <td>-0.558790</td>\n",
              "      <td>0.613400</td>\n",
              "      <td>1.0</td>\n",
              "      <td>0.0</td>\n",
              "      <td>0.0</td>\n",
              "      <td>1.0</td>\n",
              "      <td>0.0</td>\n",
              "      <td>0.0</td>\n",
              "      <td>0.0</td>\n",
              "      <td>1.0</td>\n",
              "      <td>0.0</td>\n",
              "      <td>1.0</td>\n",
              "      <td>0.0</td>\n",
              "      <td>0.0</td>\n",
              "      <td>1.0</td>\n",
              "      <td>0.0</td>\n",
              "    </tr>\n",
              "    <tr>\n",
              "      <th>19</th>\n",
              "      <td>-1.211193</td>\n",
              "      <td>-0.361058</td>\n",
              "      <td>-0.24654</td>\n",
              "      <td>-0.870459</td>\n",
              "      <td>-1.179767</td>\n",
              "      <td>1.0</td>\n",
              "      <td>0.0</td>\n",
              "      <td>1.0</td>\n",
              "      <td>0.0</td>\n",
              "      <td>0.0</td>\n",
              "      <td>0.0</td>\n",
              "      <td>1.0</td>\n",
              "      <td>0.0</td>\n",
              "      <td>0.0</td>\n",
              "      <td>1.0</td>\n",
              "      <td>0.0</td>\n",
              "      <td>1.0</td>\n",
              "      <td>0.0</td>\n",
              "      <td>0.0</td>\n",
              "    </tr>\n",
              "  </tbody>\n",
              "</table>\n",
              "</div>"
            ],
            "text/plain": [
              "          0         1        2         3         4   ...   14   15   16   17   18\n",
              "0  -1.746462 -0.361058 -0.24654 -0.537871 -1.235804  ...  0.0  1.0  0.0  1.0  0.0\n",
              "1  -0.997085 -0.361058 -0.24654 -0.950542 -0.311202  ...  0.0  1.0  0.0  1.0  0.0\n",
              "2   0.929884 -0.361058 -0.24654  3.022762  0.697455  ...  1.0  0.0  0.0  0.0  1.0\n",
              "3  -1.639408 -0.361058 -0.24654 -0.264870 -1.011658  ...  0.0  1.0  0.0  1.0  0.0\n",
              "4  -0.515343 -0.361058 -0.24654  2.854989  0.977637  ...  0.0  1.0  0.0  0.0  1.0\n",
              "5   1.090464 -0.361058 -0.24654 -0.811506  0.809528  ...  0.0  1.0  0.0  1.0  0.0\n",
              "6  -0.408289 -0.361058 -0.24654 -0.516318 -0.241156  ...  1.0  0.0  1.0  0.0  0.0\n",
              "7   0.394615 -0.361058 -0.24654 -0.289381 -0.087056  ...  1.0  0.0  0.0  0.0  1.0\n",
              "8  -1.371774 -0.361058 -0.24654 -0.433911 -0.955621  ...  0.0  1.0  0.0  1.0  0.0\n",
              "9  -1.425301 -0.361058 -0.24654 -0.462225 -1.319858  ...  1.0  0.0  0.0  1.0  0.0\n",
              "10  1.625734 -0.361058 -0.24654 -0.385523  0.585382  ...  1.0  0.0  0.0  1.0  0.0\n",
              "11  1.465153 -0.361058 -0.24654  0.054617 -0.059038  ...  1.0  0.0  1.0  0.0  0.0\n",
              "12 -1.425301 -0.361058 -0.24654  0.656614 -0.227147  ...  0.0  1.0  1.0  0.0  0.0\n",
              "13 -0.461816 -0.361058 -0.24654 -0.799673  0.291190  ...  1.0  0.0  0.0  1.0  0.0\n",
              "14 -0.836505 -0.361058 -0.24654 -0.373479  0.361236  ...  0.0  1.0  0.0  0.0  1.0\n",
              "15 -0.087128 -0.361058 -0.24654 -0.379606 -0.213138  ...  1.0  0.0  0.0  1.0  0.0\n",
              "16  0.929884 -0.361058 -0.24654  1.978724  0.207136  ...  0.0  1.0  0.0  0.0  1.0\n",
              "17  0.448141 -0.361058 -0.24654 -0.498991  0.361236  ...  1.0  0.0  1.0  0.0  0.0\n",
              "18  0.501668 -0.361058 -0.24654 -0.558790  0.613400  ...  1.0  0.0  0.0  1.0  0.0\n",
              "19 -1.211193 -0.361058 -0.24654 -0.870459 -1.179767  ...  1.0  0.0  1.0  0.0  0.0\n",
              "\n",
              "[20 rows x 19 columns]"
            ]
          },
          "metadata": {
            "tags": []
          },
          "execution_count": 8
        }
      ]
    },
    {
      "cell_type": "markdown",
      "metadata": {
        "id": "2O_8exLxvvFB"
      },
      "source": [
        "# Training"
      ]
    },
    {
      "cell_type": "code",
      "metadata": {
        "id": "_ScyCaSrGqH5"
      },
      "source": [
        "# Define evaluation function\n",
        "\n",
        "from sklearn.metrics import f1_score, balanced_accuracy_score, average_precision_score, precision_score, recall_score\n",
        "\n",
        "def evaluate(model, features, labels):\n",
        "  predictions = model.predict(features)\n",
        "\n",
        "  mean_testing = np.mean(predictions == labels)\n",
        "  print(\"Mean: \" + str(mean_testing))\n",
        "  recall_testing = recall_score(labels, predictions, average=\"binary\", pos_label=1)\n",
        "  print(\"Recall: \" + str(recall_testing))\n",
        "  precision_testing = precision_score(labels, predictions, average=\"binary\", pos_label=1)\n",
        "  print(\"Precision: \" + str(precision_testing))\n",
        "  f1_testing = f1_score(labels, predictions, average=\"binary\", pos_label=1)\n",
        "  print(\"F1 Score: \" + str(f1_testing))"
      ],
      "execution_count": null,
      "outputs": []
    },
    {
      "cell_type": "code",
      "metadata": {
        "id": "lDePtP79Gcj6"
      },
      "source": [
        "# Train a Logistic Regression Classifier\n",
        "\n",
        "from sklearn.linear_model import LogisticRegression\n",
        "logRes = LogisticRegression().fit(training_features_prepared, training_labels)"
      ],
      "execution_count": null,
      "outputs": []
    },
    {
      "cell_type": "code",
      "metadata": {
        "colab": {
          "base_uri": "https://localhost:8080/"
        },
        "id": "Pc0PmM_RGnKr",
        "outputId": "f9685db4-0769-4d37-c80c-eb9dad51252d"
      },
      "source": [
        "evaluate(logRes, training_features_prepared, training_labels)"
      ],
      "execution_count": null,
      "outputs": [
        {
          "output_type": "stream",
          "text": [
            "Mean: 0.9507299270072993\n",
            "Recall: 0.007352941176470588\n",
            "Precision: 1.0\n",
            "F1 Score: 0.014598540145985401\n"
          ],
          "name": "stdout"
        }
      ]
    },
    {
      "cell_type": "code",
      "metadata": {
        "colab": {
          "base_uri": "https://localhost:8080/"
        },
        "id": "AgiTEhNPZrSB",
        "outputId": "2170e3d0-47bc-40fd-9b94-df5e5c7993f3"
      },
      "source": [
        "# Train a Support Vector Machine Classifier\n",
        "\n",
        "from sklearn import svm\n",
        "\n",
        "svc = svm.SVC(kernel=\"poly\", random_state=42, probability=True)\n",
        "svc.fit(training_features_prepared, training_labels)"
      ],
      "execution_count": null,
      "outputs": [
        {
          "output_type": "execute_result",
          "data": {
            "text/plain": [
              "SVC(C=1.0, break_ties=False, cache_size=200, class_weight=None, coef0=0.0,\n",
              "    decision_function_shape='ovr', degree=3, gamma='scale', kernel='poly',\n",
              "    max_iter=-1, probability=True, random_state=42, shrinking=True, tol=0.001,\n",
              "    verbose=False)"
            ]
          },
          "metadata": {
            "tags": []
          },
          "execution_count": 12
        }
      ]
    },
    {
      "cell_type": "code",
      "metadata": {
        "colab": {
          "base_uri": "https://localhost:8080/"
        },
        "id": "K5NuEr1QZ5K0",
        "outputId": "3a045494-0f7f-41a4-8f14-04a695ecde24"
      },
      "source": [
        "evaluate(svc, training_features_prepared, training_labels)\n",
        "svc.predict_proba(training_features_prepared)"
      ],
      "execution_count": null,
      "outputs": [
        {
          "output_type": "stream",
          "text": [
            "Mean: 0.9536496350364964\n",
            "Recall: 0.08088235294117647\n",
            "Precision: 0.8461538461538461\n",
            "F1 Score: 0.1476510067114094\n"
          ],
          "name": "stdout"
        },
        {
          "output_type": "execute_result",
          "data": {
            "text/plain": [
              "array([[0.94765732, 0.05234268],\n",
              "       [0.94575279, 0.05424721],\n",
              "       [0.95100132, 0.04899868],\n",
              "       ...,\n",
              "       [0.95002549, 0.04997451],\n",
              "       [0.94763636, 0.05236364],\n",
              "       [0.95104982, 0.04895018]])"
            ]
          },
          "metadata": {
            "tags": []
          },
          "execution_count": 13
        }
      ]
    },
    {
      "cell_type": "code",
      "metadata": {
        "colab": {
          "base_uri": "https://localhost:8080/"
        },
        "id": "loM6fhK-fO3U",
        "outputId": "4fcfd19e-0353-4acc-f5ec-8f699fdb1c16"
      },
      "source": [
        "# Train a random forest classifier\n",
        "\n",
        "from sklearn.ensemble import RandomForestClassifier\n",
        "\n",
        "rfc = RandomForestClassifier()\n",
        "rfc.fit(training_features_prepared, training_labels)"
      ],
      "execution_count": null,
      "outputs": [
        {
          "output_type": "execute_result",
          "data": {
            "text/plain": [
              "RandomForestClassifier(bootstrap=True, ccp_alpha=0.0, class_weight=None,\n",
              "                       criterion='gini', max_depth=None, max_features='auto',\n",
              "                       max_leaf_nodes=None, max_samples=None,\n",
              "                       min_impurity_decrease=0.0, min_impurity_split=None,\n",
              "                       min_samples_leaf=1, min_samples_split=2,\n",
              "                       min_weight_fraction_leaf=0.0, n_estimators=100,\n",
              "                       n_jobs=None, oob_score=False, random_state=None,\n",
              "                       verbose=0, warm_start=False)"
            ]
          },
          "metadata": {
            "tags": []
          },
          "execution_count": 14
        }
      ]
    },
    {
      "cell_type": "code",
      "metadata": {
        "colab": {
          "base_uri": "https://localhost:8080/"
        },
        "id": "wR5tk0wsfgmr",
        "outputId": "6c82f545-8c73-4276-e4d1-b85d7d2534d9"
      },
      "source": [
        "evaluate(rfc, training_features_prepared, training_labels)\n",
        "rfc.predict_proba(training_features_prepared)"
      ],
      "execution_count": null,
      "outputs": [
        {
          "output_type": "stream",
          "text": [
            "Mean: 1.0\n",
            "Recall: 1.0\n",
            "Precision: 1.0\n",
            "F1 Score: 1.0\n"
          ],
          "name": "stdout"
        },
        {
          "output_type": "execute_result",
          "data": {
            "text/plain": [
              "array([[1.  , 0.  ],\n",
              "       [1.  , 0.  ],\n",
              "       [0.96, 0.04],\n",
              "       ...,\n",
              "       [1.  , 0.  ],\n",
              "       [0.99, 0.01],\n",
              "       [0.95, 0.05]])"
            ]
          },
          "metadata": {
            "tags": []
          },
          "execution_count": 15
        }
      ]
    },
    {
      "cell_type": "code",
      "metadata": {
        "colab": {
          "base_uri": "https://localhost:8080/"
        },
        "id": "pXlDGfvUOBsS",
        "outputId": "93d87b31-f405-4ab5-e2ab-822e6a6bf0d5"
      },
      "source": [
        "# Train a Gradient Boosting Classifier\n",
        "\n",
        "from sklearn.ensemble import GradientBoostingClassifier\n",
        "\n",
        "gbc = GradientBoostingClassifier()\n",
        "gbc.fit(training_features_prepared, training_labels)"
      ],
      "execution_count": null,
      "outputs": [
        {
          "output_type": "execute_result",
          "data": {
            "text/plain": [
              "GradientBoostingClassifier(ccp_alpha=0.0, criterion='friedman_mse', init=None,\n",
              "                           learning_rate=0.1, loss='deviance', max_depth=3,\n",
              "                           max_features=None, max_leaf_nodes=None,\n",
              "                           min_impurity_decrease=0.0, min_impurity_split=None,\n",
              "                           min_samples_leaf=1, min_samples_split=2,\n",
              "                           min_weight_fraction_leaf=0.0, n_estimators=100,\n",
              "                           n_iter_no_change=None, presort='deprecated',\n",
              "                           random_state=None, subsample=1.0, tol=0.0001,\n",
              "                           validation_fraction=0.1, verbose=0,\n",
              "                           warm_start=False)"
            ]
          },
          "metadata": {
            "tags": []
          },
          "execution_count": 16
        }
      ]
    },
    {
      "cell_type": "code",
      "metadata": {
        "colab": {
          "base_uri": "https://localhost:8080/"
        },
        "id": "URGtOrTVOL1q",
        "outputId": "e7458426-1c5c-45db-844c-33c689f6a22d"
      },
      "source": [
        "evaluate(gbc, training_features_prepared, training_labels)\n",
        "gbc.predict_proba(training_features_prepared)"
      ],
      "execution_count": null,
      "outputs": [
        {
          "output_type": "stream",
          "text": [
            "Mean: 0.9635036496350365\n",
            "Recall: 0.2647058823529412\n",
            "Precision: 1.0\n",
            "F1 Score: 0.4186046511627907\n"
          ],
          "name": "stdout"
        },
        {
          "output_type": "execute_result",
          "data": {
            "text/plain": [
              "array([[0.99447904, 0.00552096],\n",
              "       [0.99635826, 0.00364174],\n",
              "       [0.95781438, 0.04218562],\n",
              "       ...,\n",
              "       [0.99695351, 0.00304649],\n",
              "       [0.95427431, 0.04572569],\n",
              "       [0.8941059 , 0.1058941 ]])"
            ]
          },
          "metadata": {
            "tags": []
          },
          "execution_count": 17
        }
      ]
    },
    {
      "cell_type": "markdown",
      "metadata": {
        "id": "bwMiwRY1v2Z_"
      },
      "source": [
        "# Fine Tuning"
      ]
    },
    {
      "cell_type": "code",
      "metadata": {
        "colab": {
          "base_uri": "https://localhost:8080/"
        },
        "id": "AMLeXGQZaUzz",
        "outputId": "bd6222d0-15f7-415d-e958-964cf945e11b"
      },
      "source": [
        "# SVC - Grid Search Cross Validation\n",
        "\n",
        "from sklearn.model_selection import GridSearchCV\n",
        "\n",
        "param_grid = [\n",
        "    {'degree': [2, 8, 18], \"C\": [0.5, 1, 5, 10, 20]},\n",
        "    {'degree': [2, 8, 18], \"C\": [0.5, 1, 5, 10, 20]},\n",
        "  ]\n",
        "\n",
        "svc = svm.SVC(kernel=\"poly\", random_state=42, probability=True)\n",
        "\n",
        "svc_grid_search = GridSearchCV(svc, param_grid, cv=5,\n",
        "                           scoring='recall',\n",
        "                           return_train_score=True)\n",
        "\n",
        "svc_grid_search.fit(training_features_prepared, training_labels)"
      ],
      "execution_count": null,
      "outputs": [
        {
          "output_type": "execute_result",
          "data": {
            "text/plain": [
              "GridSearchCV(cv=5, error_score=nan,\n",
              "             estimator=SVC(C=1.0, break_ties=False, cache_size=200,\n",
              "                           class_weight=None, coef0=0.0,\n",
              "                           decision_function_shape='ovr', degree=3,\n",
              "                           gamma='scale', kernel='poly', max_iter=-1,\n",
              "                           probability=True, random_state=42, shrinking=True,\n",
              "                           tol=0.001, verbose=False),\n",
              "             iid='deprecated', n_jobs=None,\n",
              "             param_grid=[{'C': [0.5, 1, 5, 10, 20], 'degree': [2, 8, 18]},\n",
              "                         {'C': [0.5, 1, 5, 10, 20], 'degree': [2, 8, 18]}],\n",
              "             pre_dispatch='2*n_jobs', refit=True, return_train_score=True,\n",
              "             scoring='recall', verbose=0)"
            ]
          },
          "metadata": {
            "tags": []
          },
          "execution_count": 18
        }
      ]
    },
    {
      "cell_type": "code",
      "metadata": {
        "colab": {
          "base_uri": "https://localhost:8080/"
        },
        "id": "PlFEdEiQaYD2",
        "outputId": "7887e7c4-6243-4be1-f8c8-0f67bc112d27"
      },
      "source": [
        "# SVC - Grid Search Results\n",
        "\n",
        "svc_cvres = svc_grid_search.cv_results_\n",
        "print(\"Best params:\", svc_grid_search.best_params_)\n",
        "\n",
        "for mean_score, params in zip(svc_cvres[\"mean_test_score\"], svc_cvres[\"params\"]):\n",
        "    print(mean_score, params)"
      ],
      "execution_count": null,
      "outputs": [
        {
          "output_type": "stream",
          "text": [
            "Best params: {'C': 20, 'degree': 8}\n",
            "0.0 {'C': 0.5, 'degree': 2}\n",
            "0.08068783068783068 {'C': 0.5, 'degree': 8}\n",
            "0.08068783068783068 {'C': 0.5, 'degree': 18}\n",
            "0.0 {'C': 1, 'degree': 2}\n",
            "0.07328042328042328 {'C': 1, 'degree': 8}\n",
            "0.08068783068783068 {'C': 1, 'degree': 18}\n",
            "0.0 {'C': 5, 'degree': 2}\n",
            "0.09523809523809523 {'C': 5, 'degree': 8}\n",
            "0.09523809523809523 {'C': 5, 'degree': 18}\n",
            "0.0 {'C': 10, 'degree': 2}\n",
            "0.10238095238095238 {'C': 10, 'degree': 8}\n",
            "0.09523809523809523 {'C': 10, 'degree': 18}\n",
            "0.014814814814814814 {'C': 20, 'degree': 2}\n",
            "0.10952380952380951 {'C': 20, 'degree': 8}\n",
            "0.08783068783068783 {'C': 20, 'degree': 18}\n",
            "0.0 {'C': 0.5, 'degree': 2}\n",
            "0.08068783068783068 {'C': 0.5, 'degree': 8}\n",
            "0.08068783068783068 {'C': 0.5, 'degree': 18}\n",
            "0.0 {'C': 1, 'degree': 2}\n",
            "0.07328042328042328 {'C': 1, 'degree': 8}\n",
            "0.08068783068783068 {'C': 1, 'degree': 18}\n",
            "0.0 {'C': 5, 'degree': 2}\n",
            "0.09523809523809523 {'C': 5, 'degree': 8}\n",
            "0.09523809523809523 {'C': 5, 'degree': 18}\n",
            "0.0 {'C': 10, 'degree': 2}\n",
            "0.10238095238095238 {'C': 10, 'degree': 8}\n",
            "0.09523809523809523 {'C': 10, 'degree': 18}\n",
            "0.014814814814814814 {'C': 20, 'degree': 2}\n",
            "0.10952380952380951 {'C': 20, 'degree': 8}\n",
            "0.08783068783068783 {'C': 20, 'degree': 18}\n"
          ],
          "name": "stdout"
        }
      ]
    },
    {
      "cell_type": "code",
      "metadata": {
        "colab": {
          "base_uri": "https://localhost:8080/"
        },
        "id": "2gindkeXgq0x",
        "outputId": "3e555b27-21ab-4053-fffd-98a767f684f6"
      },
      "source": [
        "# RFC - Randomized Search Cross Validation\n",
        "\n",
        "from sklearn.model_selection import RandomizedSearchCV\n",
        "from scipy.stats import randint\n",
        "\n",
        "param_distribs = {\n",
        "        'n_estimators': randint(low=1, high=200),\n",
        "        'max_features': randint(low=1, high=18),\n",
        "    }\n",
        "\n",
        "rfc = RandomForestClassifier()\n",
        "\n",
        "rfc_rnd_search = RandomizedSearchCV(rfc, param_distributions=param_distribs,\n",
        "                                n_iter=10, cv=5, scoring='recall', random_state=42)\n",
        "\n",
        "rfc_rnd_search.fit(training_features_prepared, training_labels)"
      ],
      "execution_count": null,
      "outputs": [
        {
          "output_type": "execute_result",
          "data": {
            "text/plain": [
              "RandomizedSearchCV(cv=5, error_score=nan,\n",
              "                   estimator=RandomForestClassifier(bootstrap=True,\n",
              "                                                    ccp_alpha=0.0,\n",
              "                                                    class_weight=None,\n",
              "                                                    criterion='gini',\n",
              "                                                    max_depth=None,\n",
              "                                                    max_features='auto',\n",
              "                                                    max_leaf_nodes=None,\n",
              "                                                    max_samples=None,\n",
              "                                                    min_impurity_decrease=0.0,\n",
              "                                                    min_impurity_split=None,\n",
              "                                                    min_samples_leaf=1,\n",
              "                                                    min_samples_split=2,\n",
              "                                                    min_weight_fraction_leaf=0.0,\n",
              "                                                    n_estimators=100,\n",
              "                                                    n_jobs...\n",
              "                                                    verbose=0,\n",
              "                                                    warm_start=False),\n",
              "                   iid='deprecated', n_iter=10, n_jobs=None,\n",
              "                   param_distributions={'max_features': <scipy.stats._distn_infrastructure.rv_frozen object at 0x7fdc89cecbd0>,\n",
              "                                        'n_estimators': <scipy.stats._distn_infrastructure.rv_frozen object at 0x7fdc89cec890>},\n",
              "                   pre_dispatch='2*n_jobs', random_state=42, refit=True,\n",
              "                   return_train_score=False, scoring='recall', verbose=0)"
            ]
          },
          "metadata": {
            "tags": []
          },
          "execution_count": 20
        }
      ]
    },
    {
      "cell_type": "code",
      "metadata": {
        "colab": {
          "base_uri": "https://localhost:8080/"
        },
        "id": "Pd3suL4uhPE7",
        "outputId": "02a846fa-2dc3-4c40-aff5-28349fafdf12"
      },
      "source": [
        "# RFC - Randomized Search Results\n",
        "\n",
        "rfc_cvres = rfc_rnd_search.cv_results_\n",
        "print(\"Best params:\", rfc_rnd_search.best_params_)\n",
        "\n",
        "for mean_score, params in zip(rfc_cvres[\"mean_test_score\"], rfc_cvres[\"params\"]):\n",
        "    print(mean_score, params)"
      ],
      "execution_count": null,
      "outputs": [
        {
          "output_type": "stream",
          "text": [
            "Best params: {'max_features': 11, 'n_estimators': 88}\n",
            "0.007142857142857143 {'max_features': 7, 'n_estimators': 180}\n",
            "0.014285714285714285 {'max_features': 15, 'n_estimators': 107}\n",
            "0.014285714285714285 {'max_features': 8, 'n_estimators': 189}\n",
            "0.01455026455026455 {'max_features': 7, 'n_estimators': 122}\n",
            "0.02169312169312169 {'max_features': 11, 'n_estimators': 88}\n",
            "0.007142857142857143 {'max_features': 4, 'n_estimators': 104}\n",
            "0.0 {'max_features': 3, 'n_estimators': 150}\n",
            "0.01455026455026455 {'max_features': 2, 'n_estimators': 88}\n",
            "0.02169312169312169 {'max_features': 12, 'n_estimators': 158}\n",
            "0.007407407407407407 {'max_features': 6, 'n_estimators': 130}\n"
          ],
          "name": "stdout"
        }
      ]
    },
    {
      "cell_type": "code",
      "metadata": {
        "colab": {
          "base_uri": "https://localhost:8080/"
        },
        "id": "v3dUXydzR_WR",
        "outputId": "afc8e99b-7417-4149-fec1-9609291aeba4"
      },
      "source": [
        "# GBC - Grid Search Cross Validation\n",
        "\n",
        "param_grid = [\n",
        "    {'learning_rate': [0.1, 0.4, 0.7], \"n_estimators\": [50, 100, 300]},\n",
        "    {'learning_rate': [0.1, 0.4, 0.7], \"n_estimators\": [50, 100, 300]},\n",
        "  ]\n",
        "\n",
        "gbc_2 = GradientBoostingClassifier()\n",
        "\n",
        "gbc_grid_search = GridSearchCV(gbc_2, param_grid, cv=5,\n",
        "                           scoring='recall',\n",
        "                           return_train_score=True)\n",
        "\n",
        "gbc_grid_search.fit(training_features_prepared, training_labels)"
      ],
      "execution_count": 32,
      "outputs": [
        {
          "output_type": "execute_result",
          "data": {
            "text/plain": [
              "GridSearchCV(cv=5, error_score=nan,\n",
              "             estimator=GradientBoostingClassifier(ccp_alpha=0.0,\n",
              "                                                  criterion='friedman_mse',\n",
              "                                                  init=None, learning_rate=0.1,\n",
              "                                                  loss='deviance', max_depth=3,\n",
              "                                                  max_features=None,\n",
              "                                                  max_leaf_nodes=None,\n",
              "                                                  min_impurity_decrease=0.0,\n",
              "                                                  min_impurity_split=None,\n",
              "                                                  min_samples_leaf=1,\n",
              "                                                  min_samples_split=2,\n",
              "                                                  min_weight_fraction_leaf=0.0,\n",
              "                                                  n_estimators=100,\n",
              "                                                  n_iter_no_c...\n",
              "                                                  presort='deprecated',\n",
              "                                                  random_state=None,\n",
              "                                                  subsample=1.0, tol=0.0001,\n",
              "                                                  validation_fraction=0.1,\n",
              "                                                  verbose=0, warm_start=False),\n",
              "             iid='deprecated', n_jobs=None,\n",
              "             param_grid=[{'learning_rate': [0.1, 0.4, 0.7],\n",
              "                          'n_estimators': [50, 100, 300]},\n",
              "                         {'learning_rate': [0.1, 0.4, 0.7],\n",
              "                          'n_estimators': [50, 100, 300]}],\n",
              "             pre_dispatch='2*n_jobs', refit=True, return_train_score=True,\n",
              "             scoring='recall', verbose=0)"
            ]
          },
          "metadata": {
            "tags": []
          },
          "execution_count": 32
        }
      ]
    },
    {
      "cell_type": "code",
      "metadata": {
        "colab": {
          "base_uri": "https://localhost:8080/"
        },
        "id": "uCDvD3ctSjaz",
        "outputId": "07217b27-5ce1-4a07-9652-09b25b55a9ec"
      },
      "source": [
        "# RFC - Randomized Search Results\n",
        "\n",
        "gbc_cvres = gbc_grid_search.cv_results_\n",
        "print(\"Best params:\", gbc_grid_search.best_params_)\n",
        "\n",
        "for mean_score, params in zip(gbc_cvres[\"mean_test_score\"], gbc_cvres[\"params\"]):\n",
        "    print(mean_score, params)"
      ],
      "execution_count": 33,
      "outputs": [
        {
          "output_type": "stream",
          "text": [
            "Best params: {'learning_rate': 0.7, 'n_estimators': 50}\n",
            "0.0365079365079365 {'learning_rate': 0.1, 'n_estimators': 50}\n",
            "0.0291005291005291 {'learning_rate': 0.1, 'n_estimators': 100}\n",
            "0.06613756613756613 {'learning_rate': 0.1, 'n_estimators': 300}\n",
            "0.06640211640211639 {'learning_rate': 0.4, 'n_estimators': 50}\n",
            "0.05873015873015872 {'learning_rate': 0.4, 'n_estimators': 100}\n",
            "0.05873015873015872 {'learning_rate': 0.4, 'n_estimators': 300}\n",
            "0.09576719576719576 {'learning_rate': 0.7, 'n_estimators': 50}\n",
            "0.09576719576719576 {'learning_rate': 0.7, 'n_estimators': 100}\n",
            "0.09576719576719576 {'learning_rate': 0.7, 'n_estimators': 300}\n",
            "0.0365079365079365 {'learning_rate': 0.1, 'n_estimators': 50}\n",
            "0.0365079365079365 {'learning_rate': 0.1, 'n_estimators': 100}\n",
            "0.06613756613756613 {'learning_rate': 0.1, 'n_estimators': 300}\n",
            "0.08121693121693122 {'learning_rate': 0.4, 'n_estimators': 50}\n",
            "0.06613756613756613 {'learning_rate': 0.4, 'n_estimators': 100}\n",
            "0.06613756613756613 {'learning_rate': 0.4, 'n_estimators': 300}\n",
            "0.09576719576719576 {'learning_rate': 0.7, 'n_estimators': 50}\n",
            "0.09576719576719576 {'learning_rate': 0.7, 'n_estimators': 100}\n",
            "0.09576719576719576 {'learning_rate': 0.7, 'n_estimators': 300}\n"
          ],
          "name": "stdout"
        }
      ]
    },
    {
      "cell_type": "markdown",
      "metadata": {
        "id": "fiptvB0fAPGU"
      },
      "source": [
        "# Evaluation"
      ]
    },
    {
      "cell_type": "code",
      "metadata": {
        "id": "pxvksdEReVib"
      },
      "source": [
        "model = gbc_grid_search.best_estimator_ #cvres.best_estimator_"
      ],
      "execution_count": 34,
      "outputs": []
    },
    {
      "cell_type": "code",
      "metadata": {
        "id": "PvPlwCxpAjT7"
      },
      "source": [
        "# Transform testing_features\n",
        "\n",
        "testing_features_prepared = pipeline.transform(testing_features)"
      ],
      "execution_count": 35,
      "outputs": []
    },
    {
      "cell_type": "code",
      "metadata": {
        "colab": {
          "base_uri": "https://localhost:8080/"
        },
        "id": "xys-DYMLAW02",
        "outputId": "97ca889f-dc5a-4802-a365-967c7f5bb622"
      },
      "source": [
        "evaluate(model, testing_features_prepared, testing_labels)"
      ],
      "execution_count": 36,
      "outputs": [
        {
          "output_type": "stream",
          "text": [
            "Mean: 0.9182481751824818\n",
            "Recall: 0.06818181818181818\n",
            "Precision: 0.16666666666666666\n",
            "F1 Score: 0.0967741935483871\n"
          ],
          "name": "stdout"
        }
      ]
    },
    {
      "cell_type": "markdown",
      "metadata": {
        "id": "B-GuAdGOe25x"
      },
      "source": [
        "# Export"
      ]
    },
    {
      "cell_type": "code",
      "metadata": {
        "colab": {
          "base_uri": "https://localhost:8080/"
        },
        "id": "QFLMdn1Cst26",
        "outputId": "4620196e-aa9c-430a-8e88-e8d204b76ce9"
      },
      "source": [
        "from sklearn.externals import joblib\n",
        "\n",
        "import PandasCreatorModule\n",
        "\n",
        "full_pipeline = Pipeline([\n",
        "    (\"pandas\", PandasCreatorModule.PandasCreator()),\n",
        "    (\"transformation\", pipeline),\n",
        "    (\"classification\", model)\n",
        "])\n",
        "\n",
        "full_pipeline.fit(training_features, training_labels)\n",
        "\n",
        "# print(full_pipeline.predict_proba([\"Male\", 67,0,1,\"Yes\", \"Private\",\"Urban\",228.69, 36.6,\"formerly smoked\"]))\n",
        "\n",
        "joblib.dump(full_pipeline, 'model.joblib')"
      ],
      "execution_count": 56,
      "outputs": [
        {
          "output_type": "execute_result",
          "data": {
            "text/plain": [
              "['model.joblib']"
            ]
          },
          "metadata": {
            "tags": []
          },
          "execution_count": 56
        }
      ]
    },
    {
      "cell_type": "code",
      "metadata": {
        "colab": {
          "base_uri": "https://localhost:8080/"
        },
        "id": "Qe0A0RDKQ1gS",
        "outputId": "561c65ae-afac-4f64-b85c-7ce99f77c0f1"
      },
      "source": [
        "!python setup.py sdist --formats=gztar"
      ],
      "execution_count": 57,
      "outputs": [
        {
          "output_type": "stream",
          "text": [
            "running sdist\n",
            "running egg_info\n",
            "writing PandasCreator.egg-info/PKG-INFO\n",
            "writing dependency_links to PandasCreator.egg-info/dependency_links.txt\n",
            "writing top-level names to PandasCreator.egg-info/top_level.txt\n",
            "reading manifest file 'PandasCreator.egg-info/SOURCES.txt'\n",
            "writing manifest file 'PandasCreator.egg-info/SOURCES.txt'\n",
            "warning: sdist: standard file not found: should have one of README, README.rst, README.txt, README.md\n",
            "\n",
            "running check\n",
            "warning: check: missing required meta-data: url\n",
            "\n",
            "warning: check: missing meta-data: either (author and author_email) or (maintainer and maintainer_email) must be supplied\n",
            "\n",
            "creating PandasCreator-0.1\n",
            "creating PandasCreator-0.1/PandasCreator.egg-info\n",
            "copying files to PandasCreator-0.1...\n",
            "copying PandasCreatorModule.py -> PandasCreator-0.1\n",
            "copying setup.py -> PandasCreator-0.1\n",
            "copying PandasCreator.egg-info/PKG-INFO -> PandasCreator-0.1/PandasCreator.egg-info\n",
            "copying PandasCreator.egg-info/SOURCES.txt -> PandasCreator-0.1/PandasCreator.egg-info\n",
            "copying PandasCreator.egg-info/dependency_links.txt -> PandasCreator-0.1/PandasCreator.egg-info\n",
            "copying PandasCreator.egg-info/top_level.txt -> PandasCreator-0.1/PandasCreator.egg-info\n",
            "Writing PandasCreator-0.1/setup.cfg\n",
            "creating dist\n",
            "Creating tar archive\n",
            "removing 'PandasCreator-0.1' (and everything under it)\n"
          ],
          "name": "stdout"
        }
      ]
    }
  ]
}